{
 "cells": [
  {
   "cell_type": "code",
   "execution_count": null,
   "id": "631062fa-6879-401f-91d5-2622f3c64386",
   "metadata": {},
   "outputs": [],
   "source": []
  }
 ],
 "metadata": {
  "kernelspec": {
   "display_name": "",
   "name": ""
  },
  "language_info": {
   "name": ""
  }
 },
 "nbformat": 4,
 "nbformat_minor": 5
}
