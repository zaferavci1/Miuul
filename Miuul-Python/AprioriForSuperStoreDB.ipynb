{
 "cells": [
  {
   "cell_type": "code",
   "execution_count": 1,
   "id": "b0736d31-fada-4bf4-a2ad-5801dec9ff6f",
   "metadata": {},
   "outputs": [],
   "source": [
    "import pandas as pd\n",
    "import numpy as np\n",
    "import seaborn as sns\n",
    "import matplotlib.pyplot as plt\n",
    "import datetime as datetime\n",
    "from datetime import datetime"
   ]
  },
  {
   "cell_type": "code",
   "execution_count": 2,
   "id": "ef70fcb4-2bf5-44d6-98a0-9625f018a900",
   "metadata": {},
   "outputs": [],
   "source": [
    "df_ = pd.read_excel(\"Book2.xlsx\", sheet_name=\"son6\")\n",
    "df = df_.copy()"
   ]
  },
  {
   "cell_type": "code",
   "execution_count": 3,
   "id": "9e2cc06c-7c04-4f31-a946-2d37ce20dc12",
   "metadata": {},
   "outputs": [
    {
     "data": {
      "text/html": [
       "<div>\n",
       "<style scoped>\n",
       "    .dataframe tbody tr th:only-of-type {\n",
       "        vertical-align: middle;\n",
       "    }\n",
       "\n",
       "    .dataframe tbody tr th {\n",
       "        vertical-align: top;\n",
       "    }\n",
       "\n",
       "    .dataframe thead th {\n",
       "        text-align: right;\n",
       "    }\n",
       "</style>\n",
       "<table border=\"1\" class=\"dataframe\">\n",
       "  <thead>\n",
       "    <tr style=\"text-align: right;\">\n",
       "      <th></th>\n",
       "      <th>Order_ID</th>\n",
       "      <th>Order_Date</th>\n",
       "      <th>Customer_ID</th>\n",
       "      <th>State</th>\n",
       "      <th>Product_ID</th>\n",
       "      <th>Product_Name</th>\n",
       "      <th>Quantity</th>\n",
       "      <th>Price</th>\n",
       "    </tr>\n",
       "  </thead>\n",
       "  <tbody>\n",
       "    <tr>\n",
       "      <th>0</th>\n",
       "      <td>CA-2017-126221</td>\n",
       "      <td>2017-12-30</td>\n",
       "      <td>CC-12430</td>\n",
       "      <td>Indiana</td>\n",
       "      <td>OFF-AP-10002457</td>\n",
       "      <td>Eureka The Boss Plus 12-Amp Hard Box Upright V...</td>\n",
       "      <td>2</td>\n",
       "      <td>104.650</td>\n",
       "    </tr>\n",
       "    <tr>\n",
       "      <th>1</th>\n",
       "      <td>CA-2017-143259</td>\n",
       "      <td>2017-12-30</td>\n",
       "      <td>PO-18865</td>\n",
       "      <td>New York</td>\n",
       "      <td>FUR-BO-10003441</td>\n",
       "      <td>Bush Westfield Collection Bookcases, Fully Ass...</td>\n",
       "      <td>4</td>\n",
       "      <td>80.784</td>\n",
       "    </tr>\n",
       "    <tr>\n",
       "      <th>2</th>\n",
       "      <td>CA-2017-143259</td>\n",
       "      <td>2017-12-30</td>\n",
       "      <td>PO-18865</td>\n",
       "      <td>New York</td>\n",
       "      <td>TEC-PH-10004774</td>\n",
       "      <td>Gear Head AU3700S Headset</td>\n",
       "      <td>7</td>\n",
       "      <td>12.990</td>\n",
       "    </tr>\n",
       "    <tr>\n",
       "      <th>3</th>\n",
       "      <td>CA-2017-143259</td>\n",
       "      <td>2017-12-30</td>\n",
       "      <td>PO-18865</td>\n",
       "      <td>New York</td>\n",
       "      <td>OFF-BI-10003684</td>\n",
       "      <td>Wilson Jones Legal Size Ring Binders</td>\n",
       "      <td>3</td>\n",
       "      <td>17.592</td>\n",
       "    </tr>\n",
       "    <tr>\n",
       "      <th>4</th>\n",
       "      <td>CA-2017-115427</td>\n",
       "      <td>2017-12-30</td>\n",
       "      <td>EB-13975</td>\n",
       "      <td>California</td>\n",
       "      <td>OFF-BI-10002103</td>\n",
       "      <td>Cardinal Slant-D Ring Binder, Heavy Gauge Vinyl</td>\n",
       "      <td>2</td>\n",
       "      <td>4.345</td>\n",
       "    </tr>\n",
       "  </tbody>\n",
       "</table>\n",
       "</div>"
      ],
      "text/plain": [
       "         Order_ID Order_Date Customer_ID       State       Product_ID  \\\n",
       "0  CA-2017-126221 2017-12-30    CC-12430     Indiana  OFF-AP-10002457   \n",
       "1  CA-2017-143259 2017-12-30    PO-18865    New York  FUR-BO-10003441   \n",
       "2  CA-2017-143259 2017-12-30    PO-18865    New York  TEC-PH-10004774   \n",
       "3  CA-2017-143259 2017-12-30    PO-18865    New York  OFF-BI-10003684   \n",
       "4  CA-2017-115427 2017-12-30    EB-13975  California  OFF-BI-10002103   \n",
       "\n",
       "                                        Product_Name  Quantity    Price  \n",
       "0  Eureka The Boss Plus 12-Amp Hard Box Upright V...         2  104.650  \n",
       "1  Bush Westfield Collection Bookcases, Fully Ass...         4   80.784  \n",
       "2                          Gear Head AU3700S Headset         7   12.990  \n",
       "3               Wilson Jones Legal Size Ring Binders         3   17.592  \n",
       "4    Cardinal Slant-D Ring Binder, Heavy Gauge Vinyl         2    4.345  "
      ]
     },
     "execution_count": 3,
     "metadata": {},
     "output_type": "execute_result"
    }
   ],
   "source": [
    "df.head()"
   ]
  },
  {
   "cell_type": "code",
   "execution_count": 4,
   "id": "1cfe41ab-bfd2-4a3a-b0e6-29e6c1159827",
   "metadata": {},
   "outputs": [
    {
     "data": {
      "text/plain": [
       "Index(['Order_ID', 'Order_Date', 'Customer_ID', 'State', 'Product_ID',\n",
       "       'Product_Name', 'Quantity', 'Price'],\n",
       "      dtype='object')"
      ]
     },
     "execution_count": 4,
     "metadata": {},
     "output_type": "execute_result"
    }
   ],
   "source": [
    "df.columns"
   ]
  },
  {
   "cell_type": "code",
   "execution_count": 5,
   "id": "7736ac1b-4d95-4010-bc67-a5094bfd1ed3",
   "metadata": {},
   "outputs": [
    {
     "data": {
      "text/plain": [
       "RangeIndex(start=0, stop=9994, step=1)"
      ]
     },
     "execution_count": 5,
     "metadata": {},
     "output_type": "execute_result"
    }
   ],
   "source": [
    "df.index"
   ]
  },
  {
   "cell_type": "code",
   "execution_count": 6,
   "id": "bf6668d2-3f36-4859-a68c-b5bc303b91bc",
   "metadata": {},
   "outputs": [
    {
     "data": {
      "text/plain": [
       "Order_ID        0\n",
       "Order_Date      0\n",
       "Customer_ID     0\n",
       "State           0\n",
       "Product_ID      0\n",
       "Product_Name    0\n",
       "Quantity        0\n",
       "Price           0\n",
       "dtype: int64"
      ]
     },
     "execution_count": 6,
     "metadata": {},
     "output_type": "execute_result"
    }
   ],
   "source": [
    "df.isnull().sum()"
   ]
  },
  {
   "cell_type": "code",
   "execution_count": 7,
   "id": "378b47c8-651b-46ed-b9f9-a20e5a1f2dc8",
   "metadata": {},
   "outputs": [
    {
     "data": {
      "text/html": [
       "<div>\n",
       "<style scoped>\n",
       "    .dataframe tbody tr th:only-of-type {\n",
       "        vertical-align: middle;\n",
       "    }\n",
       "\n",
       "    .dataframe tbody tr th {\n",
       "        vertical-align: top;\n",
       "    }\n",
       "\n",
       "    .dataframe thead th {\n",
       "        text-align: right;\n",
       "    }\n",
       "</style>\n",
       "<table border=\"1\" class=\"dataframe\">\n",
       "  <thead>\n",
       "    <tr style=\"text-align: right;\">\n",
       "      <th></th>\n",
       "      <th>Order_Date</th>\n",
       "      <th>Quantity</th>\n",
       "      <th>Price</th>\n",
       "    </tr>\n",
       "  </thead>\n",
       "  <tbody>\n",
       "    <tr>\n",
       "      <th>count</th>\n",
       "      <td>9994</td>\n",
       "      <td>9994.000000</td>\n",
       "      <td>9994.000000</td>\n",
       "    </tr>\n",
       "    <tr>\n",
       "      <th>mean</th>\n",
       "      <td>2016-04-30 00:07:12.259355392</td>\n",
       "      <td>3.789574</td>\n",
       "      <td>79.299495</td>\n",
       "    </tr>\n",
       "    <tr>\n",
       "      <th>min</th>\n",
       "      <td>2014-01-03 00:00:00</td>\n",
       "      <td>1.000000</td>\n",
       "      <td>0.120000</td>\n",
       "    </tr>\n",
       "    <tr>\n",
       "      <th>25%</th>\n",
       "      <td>2015-05-23 00:00:00</td>\n",
       "      <td>2.000000</td>\n",
       "      <td>5.184000</td>\n",
       "    </tr>\n",
       "    <tr>\n",
       "      <th>50%</th>\n",
       "      <td>2016-06-26 00:00:00</td>\n",
       "      <td>3.000000</td>\n",
       "      <td>16.208800</td>\n",
       "    </tr>\n",
       "    <tr>\n",
       "      <th>75%</th>\n",
       "      <td>2017-05-14 00:00:00</td>\n",
       "      <td>5.000000</td>\n",
       "      <td>66.653333</td>\n",
       "    </tr>\n",
       "    <tr>\n",
       "      <th>max</th>\n",
       "      <td>2017-12-30 00:00:00</td>\n",
       "      <td>14.000000</td>\n",
       "      <td>6354.950000</td>\n",
       "    </tr>\n",
       "    <tr>\n",
       "      <th>std</th>\n",
       "      <td>NaN</td>\n",
       "      <td>2.225110</td>\n",
       "      <td>222.749520</td>\n",
       "    </tr>\n",
       "  </tbody>\n",
       "</table>\n",
       "</div>"
      ],
      "text/plain": [
       "                          Order_Date     Quantity        Price\n",
       "count                           9994  9994.000000  9994.000000\n",
       "mean   2016-04-30 00:07:12.259355392     3.789574    79.299495\n",
       "min              2014-01-03 00:00:00     1.000000     0.120000\n",
       "25%              2015-05-23 00:00:00     2.000000     5.184000\n",
       "50%              2016-06-26 00:00:00     3.000000    16.208800\n",
       "75%              2017-05-14 00:00:00     5.000000    66.653333\n",
       "max              2017-12-30 00:00:00    14.000000  6354.950000\n",
       "std                              NaN     2.225110   222.749520"
      ]
     },
     "execution_count": 7,
     "metadata": {},
     "output_type": "execute_result"
    }
   ],
   "source": [
    "df.describe()"
   ]
  },
  {
   "cell_type": "code",
   "execution_count": 8,
   "id": "12637b29-5255-49dc-81a6-fc520231b714",
   "metadata": {},
   "outputs": [
    {
     "data": {
      "text/plain": [
       "Order_ID                object\n",
       "Order_Date      datetime64[ns]\n",
       "Customer_ID             object\n",
       "State                   object\n",
       "Product_ID              object\n",
       "Product_Name            object\n",
       "Quantity                 int64\n",
       "Price                  float64\n",
       "dtype: object"
      ]
     },
     "execution_count": 8,
     "metadata": {},
     "output_type": "execute_result"
    }
   ],
   "source": [
    "df.dtypes"
   ]
  },
  {
   "cell_type": "code",
   "execution_count": 9,
   "id": "fd5a49c8-c447-4799-8101-c8759696b76f",
   "metadata": {},
   "outputs": [
    {
     "data": {
      "text/plain": [
       "State\n",
       "California              2001\n",
       "New York                1128\n",
       "Texas                    985\n",
       "Pennsylvania             587\n",
       "Washington               506\n",
       "Illinois                 492\n",
       "Ohio                     469\n",
       "Florida                  383\n",
       "Michigan                 255\n",
       "North Carolina           249\n",
       "Arizona                  224\n",
       "Virginia                 224\n",
       "Georgia                  184\n",
       "Tennessee                183\n",
       "Colorado                 182\n",
       "Indiana                  149\n",
       "Kentucky                 139\n",
       "Massachusetts            135\n",
       "New Jersey               130\n",
       "Oregon                   124\n",
       "Wisconsin                110\n",
       "Maryland                 105\n",
       "Delaware                  96\n",
       "Minnesota                 89\n",
       "Connecticut               82\n",
       "Oklahoma                  66\n",
       "Missouri                  66\n",
       "Alabama                   61\n",
       "Arkansas                  60\n",
       "Rhode Island              56\n",
       "Utah                      53\n",
       "Mississippi               53\n",
       "South Carolina            42\n",
       "Louisiana                 42\n",
       "Nevada                    39\n",
       "Nebraska                  38\n",
       "New Mexico                37\n",
       "Iowa                      30\n",
       "New Hampshire             27\n",
       "Kansas                    24\n",
       "Idaho                     21\n",
       "Montana                   15\n",
       "South Dakota              12\n",
       "Vermont                   11\n",
       "District of Columbia      10\n",
       "Maine                      8\n",
       "North Dakota               7\n",
       "West Virginia              4\n",
       "Wyoming                    1\n",
       "Name: count, dtype: int64"
      ]
     },
     "execution_count": 9,
     "metadata": {},
     "output_type": "execute_result"
    }
   ],
   "source": [
    "df[\"State\"].value_counts()"
   ]
  },
  {
   "cell_type": "code",
   "execution_count": 10,
   "id": "055ebb46-bf8c-4a55-ad90-98024eb2bfa0",
   "metadata": {},
   "outputs": [],
   "source": [
    "df['Order_Date'] = pd.to_datetime(df['Order_Date'], errors='coerce')"
   ]
  },
  {
   "cell_type": "code",
   "execution_count": 11,
   "id": "b682a148-db57-4181-8e40-59f3152e546e",
   "metadata": {},
   "outputs": [
    {
     "data": {
      "text/html": [
       "<div>\n",
       "<style scoped>\n",
       "    .dataframe tbody tr th:only-of-type {\n",
       "        vertical-align: middle;\n",
       "    }\n",
       "\n",
       "    .dataframe tbody tr th {\n",
       "        vertical-align: top;\n",
       "    }\n",
       "\n",
       "    .dataframe thead th {\n",
       "        text-align: right;\n",
       "    }\n",
       "</style>\n",
       "<table border=\"1\" class=\"dataframe\">\n",
       "  <thead>\n",
       "    <tr style=\"text-align: right;\">\n",
       "      <th></th>\n",
       "      <th>Order_ID</th>\n",
       "      <th>Order_Date</th>\n",
       "      <th>Customer_ID</th>\n",
       "      <th>State</th>\n",
       "      <th>Product_ID</th>\n",
       "      <th>Product_Name</th>\n",
       "      <th>Quantity</th>\n",
       "      <th>Price</th>\n",
       "    </tr>\n",
       "  </thead>\n",
       "  <tbody>\n",
       "    <tr>\n",
       "      <th>0</th>\n",
       "      <td>CA-2017-126221</td>\n",
       "      <td>2017-12-30</td>\n",
       "      <td>CC-12430</td>\n",
       "      <td>Indiana</td>\n",
       "      <td>OFF-AP-10002457</td>\n",
       "      <td>Eureka The Boss Plus 12-Amp Hard Box Upright V...</td>\n",
       "      <td>2</td>\n",
       "      <td>104.650</td>\n",
       "    </tr>\n",
       "    <tr>\n",
       "      <th>1</th>\n",
       "      <td>CA-2017-143259</td>\n",
       "      <td>2017-12-30</td>\n",
       "      <td>PO-18865</td>\n",
       "      <td>New York</td>\n",
       "      <td>FUR-BO-10003441</td>\n",
       "      <td>Bush Westfield Collection Bookcases, Fully Ass...</td>\n",
       "      <td>4</td>\n",
       "      <td>80.784</td>\n",
       "    </tr>\n",
       "    <tr>\n",
       "      <th>2</th>\n",
       "      <td>CA-2017-143259</td>\n",
       "      <td>2017-12-30</td>\n",
       "      <td>PO-18865</td>\n",
       "      <td>New York</td>\n",
       "      <td>TEC-PH-10004774</td>\n",
       "      <td>Gear Head AU3700S Headset</td>\n",
       "      <td>7</td>\n",
       "      <td>12.990</td>\n",
       "    </tr>\n",
       "    <tr>\n",
       "      <th>3</th>\n",
       "      <td>CA-2017-143259</td>\n",
       "      <td>2017-12-30</td>\n",
       "      <td>PO-18865</td>\n",
       "      <td>New York</td>\n",
       "      <td>OFF-BI-10003684</td>\n",
       "      <td>Wilson Jones Legal Size Ring Binders</td>\n",
       "      <td>3</td>\n",
       "      <td>17.592</td>\n",
       "    </tr>\n",
       "    <tr>\n",
       "      <th>4</th>\n",
       "      <td>CA-2017-115427</td>\n",
       "      <td>2017-12-30</td>\n",
       "      <td>EB-13975</td>\n",
       "      <td>California</td>\n",
       "      <td>OFF-BI-10002103</td>\n",
       "      <td>Cardinal Slant-D Ring Binder, Heavy Gauge Vinyl</td>\n",
       "      <td>2</td>\n",
       "      <td>4.345</td>\n",
       "    </tr>\n",
       "  </tbody>\n",
       "</table>\n",
       "</div>"
      ],
      "text/plain": [
       "         Order_ID Order_Date Customer_ID       State       Product_ID  \\\n",
       "0  CA-2017-126221 2017-12-30    CC-12430     Indiana  OFF-AP-10002457   \n",
       "1  CA-2017-143259 2017-12-30    PO-18865    New York  FUR-BO-10003441   \n",
       "2  CA-2017-143259 2017-12-30    PO-18865    New York  TEC-PH-10004774   \n",
       "3  CA-2017-143259 2017-12-30    PO-18865    New York  OFF-BI-10003684   \n",
       "4  CA-2017-115427 2017-12-30    EB-13975  California  OFF-BI-10002103   \n",
       "\n",
       "                                        Product_Name  Quantity    Price  \n",
       "0  Eureka The Boss Plus 12-Amp Hard Box Upright V...         2  104.650  \n",
       "1  Bush Westfield Collection Bookcases, Fully Ass...         4   80.784  \n",
       "2                          Gear Head AU3700S Headset         7   12.990  \n",
       "3               Wilson Jones Legal Size Ring Binders         3   17.592  \n",
       "4    Cardinal Slant-D Ring Binder, Heavy Gauge Vinyl         2    4.345  "
      ]
     },
     "execution_count": 11,
     "metadata": {},
     "output_type": "execute_result"
    }
   ],
   "source": [
    "df.head()"
   ]
  },
  {
   "cell_type": "code",
   "execution_count": 12,
   "id": "08478976-35f6-4290-8134-c7cafceb1326",
   "metadata": {},
   "outputs": [
    {
     "data": {
      "text/html": [
       "<div>\n",
       "<style scoped>\n",
       "    .dataframe tbody tr th:only-of-type {\n",
       "        vertical-align: middle;\n",
       "    }\n",
       "\n",
       "    .dataframe tbody tr th {\n",
       "        vertical-align: top;\n",
       "    }\n",
       "\n",
       "    .dataframe thead th {\n",
       "        text-align: right;\n",
       "    }\n",
       "</style>\n",
       "<table border=\"1\" class=\"dataframe\">\n",
       "  <thead>\n",
       "    <tr style=\"text-align: right;\">\n",
       "      <th></th>\n",
       "      <th>Product_ID</th>\n",
       "      <th>Quantity</th>\n",
       "    </tr>\n",
       "  </thead>\n",
       "  <tbody>\n",
       "    <tr>\n",
       "      <th>0</th>\n",
       "      <td>OFF-FA-10003485</td>\n",
       "      <td>215</td>\n",
       "    </tr>\n",
       "    <tr>\n",
       "      <th>1</th>\n",
       "      <td>OFF-EN-10004773</td>\n",
       "      <td>170</td>\n",
       "    </tr>\n",
       "    <tr>\n",
       "      <th>2</th>\n",
       "      <td>OFF-PA-10002764</td>\n",
       "      <td>150</td>\n",
       "    </tr>\n",
       "    <tr>\n",
       "      <th>3</th>\n",
       "      <td>OFF-AR-10004707</td>\n",
       "      <td>86</td>\n",
       "    </tr>\n",
       "    <tr>\n",
       "      <th>4</th>\n",
       "      <td>FUR-TA-10001039</td>\n",
       "      <td>74</td>\n",
       "    </tr>\n",
       "    <tr>\n",
       "      <th>...</th>\n",
       "      <td>...</td>\n",
       "      <td>...</td>\n",
       "    </tr>\n",
       "    <tr>\n",
       "      <th>1843</th>\n",
       "      <td>FUR-BO-10002206</td>\n",
       "      <td>1</td>\n",
       "    </tr>\n",
       "    <tr>\n",
       "      <th>1844</th>\n",
       "      <td>TEC-MA-10003493</td>\n",
       "      <td>1</td>\n",
       "    </tr>\n",
       "    <tr>\n",
       "      <th>1845</th>\n",
       "      <td>OFF-PA-10000048</td>\n",
       "      <td>1</td>\n",
       "    </tr>\n",
       "    <tr>\n",
       "      <th>1846</th>\n",
       "      <td>FUR-CH-10002317</td>\n",
       "      <td>1</td>\n",
       "    </tr>\n",
       "    <tr>\n",
       "      <th>1847</th>\n",
       "      <td>OFF-AR-10002704</td>\n",
       "      <td>1</td>\n",
       "    </tr>\n",
       "  </tbody>\n",
       "</table>\n",
       "<p>1848 rows × 2 columns</p>\n",
       "</div>"
      ],
      "text/plain": [
       "           Product_ID  Quantity\n",
       "0     OFF-FA-10003485       215\n",
       "1     OFF-EN-10004773       170\n",
       "2     OFF-PA-10002764       150\n",
       "3     OFF-AR-10004707        86\n",
       "4     FUR-TA-10001039        74\n",
       "...               ...       ...\n",
       "1843  FUR-BO-10002206         1\n",
       "1844  TEC-MA-10003493         1\n",
       "1845  OFF-PA-10000048         1\n",
       "1846  FUR-CH-10002317         1\n",
       "1847  OFF-AR-10002704         1\n",
       "\n",
       "[1848 rows x 2 columns]"
      ]
     },
     "execution_count": 12,
     "metadata": {},
     "output_type": "execute_result"
    }
   ],
   "source": [
    "order_id = df.groupby(\"Product_ID\").agg({\"Quantity\":\"sum\"}).sort_values(by=\"Quantity\", ascending=False).reset_index()\n",
    "order_id"
   ]
  },
  {
   "cell_type": "code",
   "execution_count": 13,
   "id": "5f78fd7c-a9d0-463f-83f8-89003bb0aed2",
   "metadata": {},
   "outputs": [
    {
     "data": {
      "text/plain": [
       "pandas.core.frame.DataFrame"
      ]
     },
     "execution_count": 13,
     "metadata": {},
     "output_type": "execute_result"
    }
   ],
   "source": [
    "order_id.iloc[0, 0]\n",
    "type(order_id)"
   ]
  },
  {
   "cell_type": "code",
   "execution_count": 14,
   "id": "3dad3b04-4491-4a6c-a5c5-8c933ed211ea",
   "metadata": {},
   "outputs": [],
   "source": [
    "max_orderIDs = df[df[\"Product_ID\"] == order_id.iloc[0, 0]][\"Order_ID\"] #En fazla satılan ürüne ait Order_ID'ler"
   ]
  },
  {
   "cell_type": "code",
   "execution_count": 15,
   "id": "a01bd0e1-6d5f-49bc-90ee-61ff81723003",
   "metadata": {},
   "outputs": [
    {
     "data": {
      "text/plain": [
       "State\n",
       "California              2001\n",
       "New York                1128\n",
       "Texas                    985\n",
       "Pennsylvania             587\n",
       "Washington               506\n",
       "Illinois                 492\n",
       "Ohio                     469\n",
       "Florida                  383\n",
       "Michigan                 255\n",
       "North Carolina           249\n",
       "Arizona                  224\n",
       "Virginia                 224\n",
       "Georgia                  184\n",
       "Tennessee                183\n",
       "Colorado                 182\n",
       "Indiana                  149\n",
       "Kentucky                 139\n",
       "Massachusetts            135\n",
       "New Jersey               130\n",
       "Oregon                   124\n",
       "Wisconsin                110\n",
       "Maryland                 105\n",
       "Delaware                  96\n",
       "Minnesota                 89\n",
       "Connecticut               82\n",
       "Oklahoma                  66\n",
       "Missouri                  66\n",
       "Alabama                   61\n",
       "Arkansas                  60\n",
       "Rhode Island              56\n",
       "Utah                      53\n",
       "Mississippi               53\n",
       "South Carolina            42\n",
       "Louisiana                 42\n",
       "Nevada                    39\n",
       "Nebraska                  38\n",
       "New Mexico                37\n",
       "Iowa                      30\n",
       "New Hampshire             27\n",
       "Kansas                    24\n",
       "Idaho                     21\n",
       "Montana                   15\n",
       "South Dakota              12\n",
       "Vermont                   11\n",
       "District of Columbia      10\n",
       "Maine                      8\n",
       "North Dakota               7\n",
       "West Virginia              4\n",
       "Wyoming                    1\n",
       "Name: count, dtype: int64"
      ]
     },
     "execution_count": 15,
     "metadata": {},
     "output_type": "execute_result"
    }
   ],
   "source": [
    "df[\"State\"].value_counts()"
   ]
  },
  {
   "cell_type": "code",
   "execution_count": 16,
   "id": "88670ace-fac1-46c7-bcd4-2769d6640171",
   "metadata": {},
   "outputs": [],
   "source": [
    "#df1 = df[df[\"Order_ID\"].isin(max_orderIDs)]\n",
    "df1 = df[df[\"State\"] == \"California\"]"
   ]
  },
  {
   "cell_type": "code",
   "execution_count": 17,
   "id": "ca11ccd1-a944-4403-a5ee-eab89779b512",
   "metadata": {},
   "outputs": [
    {
     "data": {
      "text/plain": [
       "Index(['Order_ID', 'Order_Date', 'Customer_ID', 'State', 'Product_ID',\n",
       "       'Product_Name', 'Quantity', 'Price'],\n",
       "      dtype='object')"
      ]
     },
     "execution_count": 17,
     "metadata": {},
     "output_type": "execute_result"
    }
   ],
   "source": [
    "df1.columns"
   ]
  },
  {
   "cell_type": "code",
   "execution_count": 18,
   "id": "8e89c152-ec80-4da6-8e17-c34590d544f0",
   "metadata": {},
   "outputs": [],
   "source": [
    "#df1 = df[df[\"State\"] == \"New York\"]"
   ]
  },
  {
   "cell_type": "code",
   "execution_count": 19,
   "id": "f671ef50-2114-4e66-aaf4-fe38db80f80b",
   "metadata": {},
   "outputs": [
    {
     "data": {
      "text/html": [
       "<div>\n",
       "<style scoped>\n",
       "    .dataframe tbody tr th:only-of-type {\n",
       "        vertical-align: middle;\n",
       "    }\n",
       "\n",
       "    .dataframe tbody tr th {\n",
       "        vertical-align: top;\n",
       "    }\n",
       "\n",
       "    .dataframe thead th {\n",
       "        text-align: right;\n",
       "    }\n",
       "</style>\n",
       "<table border=\"1\" class=\"dataframe\">\n",
       "  <thead>\n",
       "    <tr style=\"text-align: right;\">\n",
       "      <th></th>\n",
       "      <th>Order_ID</th>\n",
       "      <th>Order_Date</th>\n",
       "      <th>Customer_ID</th>\n",
       "      <th>State</th>\n",
       "      <th>Product_ID</th>\n",
       "      <th>Product_Name</th>\n",
       "      <th>Quantity</th>\n",
       "      <th>Price</th>\n",
       "    </tr>\n",
       "  </thead>\n",
       "  <tbody>\n",
       "    <tr>\n",
       "      <th>4</th>\n",
       "      <td>CA-2017-115427</td>\n",
       "      <td>2017-12-30</td>\n",
       "      <td>EB-13975</td>\n",
       "      <td>California</td>\n",
       "      <td>OFF-BI-10002103</td>\n",
       "      <td>Cardinal Slant-D Ring Binder, Heavy Gauge Vinyl</td>\n",
       "      <td>2</td>\n",
       "      <td>4.3450</td>\n",
       "    </tr>\n",
       "    <tr>\n",
       "      <th>5</th>\n",
       "      <td>CA-2017-115427</td>\n",
       "      <td>2017-12-30</td>\n",
       "      <td>EB-13975</td>\n",
       "      <td>California</td>\n",
       "      <td>OFF-AZ-10004632</td>\n",
       "      <td>GBC Binding covers</td>\n",
       "      <td>2</td>\n",
       "      <td>10.3600</td>\n",
       "    </tr>\n",
       "    <tr>\n",
       "      <th>7</th>\n",
       "      <td>CA-2017-118885</td>\n",
       "      <td>2017-12-29</td>\n",
       "      <td>JG-15160</td>\n",
       "      <td>California</td>\n",
       "      <td>FUR-CH-10002880</td>\n",
       "      <td>Global High-Back Leather Tilter, Burgundy</td>\n",
       "      <td>4</td>\n",
       "      <td>276.7275</td>\n",
       "    </tr>\n",
       "    <tr>\n",
       "      <th>8</th>\n",
       "      <td>CA-2017-118885</td>\n",
       "      <td>2017-12-29</td>\n",
       "      <td>JG-15160</td>\n",
       "      <td>California</td>\n",
       "      <td>TEC-PH-10002563</td>\n",
       "      <td>Adtran 1202752G1</td>\n",
       "      <td>3</td>\n",
       "      <td>100.7920</td>\n",
       "    </tr>\n",
       "    <tr>\n",
       "      <th>11</th>\n",
       "      <td>CA-2017-146626</td>\n",
       "      <td>2017-12-29</td>\n",
       "      <td>BP-11185</td>\n",
       "      <td>California</td>\n",
       "      <td>FUR-FU-10002501</td>\n",
       "      <td>Nu-Dell Executive Frame</td>\n",
       "      <td>8</td>\n",
       "      <td>7.9000</td>\n",
       "    </tr>\n",
       "  </tbody>\n",
       "</table>\n",
       "</div>"
      ],
      "text/plain": [
       "          Order_ID Order_Date Customer_ID       State       Product_ID  \\\n",
       "4   CA-2017-115427 2017-12-30    EB-13975  California  OFF-BI-10002103   \n",
       "5   CA-2017-115427 2017-12-30    EB-13975  California  OFF-AZ-10004632   \n",
       "7   CA-2017-118885 2017-12-29    JG-15160  California  FUR-CH-10002880   \n",
       "8   CA-2017-118885 2017-12-29    JG-15160  California  TEC-PH-10002563   \n",
       "11  CA-2017-146626 2017-12-29    BP-11185  California  FUR-FU-10002501   \n",
       "\n",
       "                                       Product_Name  Quantity     Price  \n",
       "4   Cardinal Slant-D Ring Binder, Heavy Gauge Vinyl         2    4.3450  \n",
       "5                                GBC Binding covers         2   10.3600  \n",
       "7         Global High-Back Leather Tilter, Burgundy         4  276.7275  \n",
       "8                                  Adtran 1202752G1         3  100.7920  \n",
       "11                          Nu-Dell Executive Frame         8    7.9000  "
      ]
     },
     "execution_count": 19,
     "metadata": {},
     "output_type": "execute_result"
    }
   ],
   "source": [
    "df1.head()"
   ]
  },
  {
   "cell_type": "code",
   "execution_count": 20,
   "id": "10b66580-f980-4de8-a955-60fc5f284485",
   "metadata": {},
   "outputs": [
    {
     "data": {
      "text/html": [
       "<div>\n",
       "<style scoped>\n",
       "    .dataframe tbody tr th:only-of-type {\n",
       "        vertical-align: middle;\n",
       "    }\n",
       "\n",
       "    .dataframe tbody tr th {\n",
       "        vertical-align: top;\n",
       "    }\n",
       "\n",
       "    .dataframe thead th {\n",
       "        text-align: right;\n",
       "    }\n",
       "</style>\n",
       "<table border=\"1\" class=\"dataframe\">\n",
       "  <thead>\n",
       "    <tr style=\"text-align: right;\">\n",
       "      <th></th>\n",
       "      <th>Order_Date</th>\n",
       "      <th>Quantity</th>\n",
       "      <th>Price</th>\n",
       "    </tr>\n",
       "  </thead>\n",
       "  <tbody>\n",
       "    <tr>\n",
       "      <th>count</th>\n",
       "      <td>2001</td>\n",
       "      <td>2001.000000</td>\n",
       "      <td>2001.000000</td>\n",
       "    </tr>\n",
       "    <tr>\n",
       "      <th>mean</th>\n",
       "      <td>2016-05-03 01:28:30.944527616</td>\n",
       "      <td>3.831584</td>\n",
       "      <td>73.348028</td>\n",
       "    </tr>\n",
       "    <tr>\n",
       "      <th>min</th>\n",
       "      <td>2014-01-06 00:00:00</td>\n",
       "      <td>1.000000</td>\n",
       "      <td>0.123750</td>\n",
       "    </tr>\n",
       "    <tr>\n",
       "      <th>25%</th>\n",
       "      <td>2015-05-03 00:00:00</td>\n",
       "      <td>2.000000</td>\n",
       "      <td>5.448000</td>\n",
       "    </tr>\n",
       "    <tr>\n",
       "      <th>50%</th>\n",
       "      <td>2016-07-04 00:00:00</td>\n",
       "      <td>3.000000</td>\n",
       "      <td>16.680000</td>\n",
       "    </tr>\n",
       "    <tr>\n",
       "      <th>75%</th>\n",
       "      <td>2017-05-02 00:00:00</td>\n",
       "      <td>5.000000</td>\n",
       "      <td>67.840000</td>\n",
       "    </tr>\n",
       "    <tr>\n",
       "      <th>max</th>\n",
       "      <td>2017-12-30 00:00:00</td>\n",
       "      <td>14.000000</td>\n",
       "      <td>6354.950000</td>\n",
       "    </tr>\n",
       "    <tr>\n",
       "      <th>std</th>\n",
       "      <td>NaN</td>\n",
       "      <td>2.280158</td>\n",
       "      <td>213.503583</td>\n",
       "    </tr>\n",
       "  </tbody>\n",
       "</table>\n",
       "</div>"
      ],
      "text/plain": [
       "                          Order_Date     Quantity        Price\n",
       "count                           2001  2001.000000  2001.000000\n",
       "mean   2016-05-03 01:28:30.944527616     3.831584    73.348028\n",
       "min              2014-01-06 00:00:00     1.000000     0.123750\n",
       "25%              2015-05-03 00:00:00     2.000000     5.448000\n",
       "50%              2016-07-04 00:00:00     3.000000    16.680000\n",
       "75%              2017-05-02 00:00:00     5.000000    67.840000\n",
       "max              2017-12-30 00:00:00    14.000000  6354.950000\n",
       "std                              NaN     2.280158   213.503583"
      ]
     },
     "execution_count": 20,
     "metadata": {},
     "output_type": "execute_result"
    }
   ],
   "source": [
    "df1.describe()"
   ]
  },
  {
   "cell_type": "code",
   "execution_count": 21,
   "id": "2000a9d8-999b-4d49-9fcd-5c3cd2ff6bed",
   "metadata": {},
   "outputs": [
    {
     "data": {
      "text/plain": [
       "Index(['Order_ID', 'Order_Date', 'Customer_ID', 'State', 'Product_ID',\n",
       "       'Product_Name', 'Quantity', 'Price'],\n",
       "      dtype='object')"
      ]
     },
     "execution_count": 21,
     "metadata": {},
     "output_type": "execute_result"
    }
   ],
   "source": [
    "df1.columns"
   ]
  },
  {
   "cell_type": "code",
   "execution_count": 22,
   "id": "734fe578-3864-458f-8ac9-9f2d325aa1ff",
   "metadata": {},
   "outputs": [
    {
     "data": {
      "text/plain": [
       "Order_ID                object\n",
       "Order_Date      datetime64[ns]\n",
       "Customer_ID             object\n",
       "State                   object\n",
       "Product_ID              object\n",
       "Product_Name            object\n",
       "Quantity                 int64\n",
       "Price                  float64\n",
       "dtype: object"
      ]
     },
     "execution_count": 22,
     "metadata": {},
     "output_type": "execute_result"
    }
   ],
   "source": [
    "df1.dtypes"
   ]
  },
  {
   "cell_type": "code",
   "execution_count": 23,
   "id": "89c2e27a-9b0f-46b9-a14d-6d5d91e6ccbf",
   "metadata": {},
   "outputs": [],
   "source": [
    "basket = pd.pivot_table(data=df1, index=\"Order_ID\", columns=\"Product_ID\", values=\"Quantity\", aggfunc=\"count\", fill_value=0)"
   ]
  },
  {
   "cell_type": "code",
   "execution_count": 24,
   "id": "4cc47822-81d2-4a8f-9582-be74c3d3a0e4",
   "metadata": {},
   "outputs": [
    {
     "data": {
      "text/html": [
       "<div>\n",
       "<style scoped>\n",
       "    .dataframe tbody tr th:only-of-type {\n",
       "        vertical-align: middle;\n",
       "    }\n",
       "\n",
       "    .dataframe tbody tr th {\n",
       "        vertical-align: top;\n",
       "    }\n",
       "\n",
       "    .dataframe thead th {\n",
       "        text-align: right;\n",
       "    }\n",
       "</style>\n",
       "<table border=\"1\" class=\"dataframe\">\n",
       "  <thead>\n",
       "    <tr style=\"text-align: right;\">\n",
       "      <th>Product_ID</th>\n",
       "      <th>FUR-AY-10001473</th>\n",
       "      <th>FUR-AY-10002213</th>\n",
       "      <th>FUR-AY-10004091</th>\n",
       "      <th>FUR-AY-10004270</th>\n",
       "      <th>FUR-AY-10004848</th>\n",
       "      <th>FUR-AZ-10001146</th>\n",
       "      <th>FUR-AZ-10001473</th>\n",
       "      <th>FUR-AZ-10002213</th>\n",
       "      <th>FUR-AZ-10004017</th>\n",
       "      <th>FUR-AZ-10004864</th>\n",
       "      <th>...</th>\n",
       "      <th>TEC-PH-10004586</th>\n",
       "      <th>TEC-PH-10004614</th>\n",
       "      <th>TEC-PH-10004667</th>\n",
       "      <th>TEC-PH-10004700</th>\n",
       "      <th>TEC-PH-10004774</th>\n",
       "      <th>TEC-PH-10004833</th>\n",
       "      <th>TEC-PH-10004896</th>\n",
       "      <th>TEC-PH-10004908</th>\n",
       "      <th>TEC-PH-10004922</th>\n",
       "      <th>TEC-PH-10004977</th>\n",
       "    </tr>\n",
       "    <tr>\n",
       "      <th>Order_ID</th>\n",
       "      <th></th>\n",
       "      <th></th>\n",
       "      <th></th>\n",
       "      <th></th>\n",
       "      <th></th>\n",
       "      <th></th>\n",
       "      <th></th>\n",
       "      <th></th>\n",
       "      <th></th>\n",
       "      <th></th>\n",
       "      <th></th>\n",
       "      <th></th>\n",
       "      <th></th>\n",
       "      <th></th>\n",
       "      <th></th>\n",
       "      <th></th>\n",
       "      <th></th>\n",
       "      <th></th>\n",
       "      <th></th>\n",
       "      <th></th>\n",
       "      <th></th>\n",
       "    </tr>\n",
       "  </thead>\n",
       "  <tbody>\n",
       "    <tr>\n",
       "      <th>CA-2014-100090</th>\n",
       "      <td>0</td>\n",
       "      <td>0</td>\n",
       "      <td>0</td>\n",
       "      <td>0</td>\n",
       "      <td>0</td>\n",
       "      <td>0</td>\n",
       "      <td>0</td>\n",
       "      <td>0</td>\n",
       "      <td>0</td>\n",
       "      <td>0</td>\n",
       "      <td>...</td>\n",
       "      <td>0</td>\n",
       "      <td>0</td>\n",
       "      <td>0</td>\n",
       "      <td>0</td>\n",
       "      <td>0</td>\n",
       "      <td>0</td>\n",
       "      <td>0</td>\n",
       "      <td>0</td>\n",
       "      <td>0</td>\n",
       "      <td>0</td>\n",
       "    </tr>\n",
       "    <tr>\n",
       "      <th>CA-2014-100860</th>\n",
       "      <td>0</td>\n",
       "      <td>0</td>\n",
       "      <td>0</td>\n",
       "      <td>0</td>\n",
       "      <td>0</td>\n",
       "      <td>0</td>\n",
       "      <td>0</td>\n",
       "      <td>0</td>\n",
       "      <td>0</td>\n",
       "      <td>0</td>\n",
       "      <td>...</td>\n",
       "      <td>0</td>\n",
       "      <td>0</td>\n",
       "      <td>0</td>\n",
       "      <td>0</td>\n",
       "      <td>0</td>\n",
       "      <td>0</td>\n",
       "      <td>0</td>\n",
       "      <td>0</td>\n",
       "      <td>0</td>\n",
       "      <td>0</td>\n",
       "    </tr>\n",
       "    <tr>\n",
       "      <th>CA-2014-100867</th>\n",
       "      <td>0</td>\n",
       "      <td>0</td>\n",
       "      <td>0</td>\n",
       "      <td>0</td>\n",
       "      <td>0</td>\n",
       "      <td>0</td>\n",
       "      <td>0</td>\n",
       "      <td>0</td>\n",
       "      <td>0</td>\n",
       "      <td>0</td>\n",
       "      <td>...</td>\n",
       "      <td>0</td>\n",
       "      <td>0</td>\n",
       "      <td>0</td>\n",
       "      <td>0</td>\n",
       "      <td>0</td>\n",
       "      <td>0</td>\n",
       "      <td>0</td>\n",
       "      <td>0</td>\n",
       "      <td>1</td>\n",
       "      <td>0</td>\n",
       "    </tr>\n",
       "    <tr>\n",
       "      <th>CA-2014-101462</th>\n",
       "      <td>0</td>\n",
       "      <td>0</td>\n",
       "      <td>0</td>\n",
       "      <td>0</td>\n",
       "      <td>0</td>\n",
       "      <td>0</td>\n",
       "      <td>0</td>\n",
       "      <td>0</td>\n",
       "      <td>0</td>\n",
       "      <td>0</td>\n",
       "      <td>...</td>\n",
       "      <td>0</td>\n",
       "      <td>0</td>\n",
       "      <td>0</td>\n",
       "      <td>0</td>\n",
       "      <td>0</td>\n",
       "      <td>0</td>\n",
       "      <td>0</td>\n",
       "      <td>0</td>\n",
       "      <td>0</td>\n",
       "      <td>0</td>\n",
       "    </tr>\n",
       "    <tr>\n",
       "      <th>CA-2014-101931</th>\n",
       "      <td>0</td>\n",
       "      <td>0</td>\n",
       "      <td>0</td>\n",
       "      <td>0</td>\n",
       "      <td>0</td>\n",
       "      <td>0</td>\n",
       "      <td>0</td>\n",
       "      <td>0</td>\n",
       "      <td>0</td>\n",
       "      <td>0</td>\n",
       "      <td>...</td>\n",
       "      <td>0</td>\n",
       "      <td>0</td>\n",
       "      <td>0</td>\n",
       "      <td>0</td>\n",
       "      <td>0</td>\n",
       "      <td>0</td>\n",
       "      <td>0</td>\n",
       "      <td>0</td>\n",
       "      <td>0</td>\n",
       "      <td>0</td>\n",
       "    </tr>\n",
       "  </tbody>\n",
       "</table>\n",
       "<p>5 rows × 1195 columns</p>\n",
       "</div>"
      ],
      "text/plain": [
       "Product_ID      FUR-AY-10001473  FUR-AY-10002213  FUR-AY-10004091  \\\n",
       "Order_ID                                                            \n",
       "CA-2014-100090                0                0                0   \n",
       "CA-2014-100860                0                0                0   \n",
       "CA-2014-100867                0                0                0   \n",
       "CA-2014-101462                0                0                0   \n",
       "CA-2014-101931                0                0                0   \n",
       "\n",
       "Product_ID      FUR-AY-10004270  FUR-AY-10004848  FUR-AZ-10001146  \\\n",
       "Order_ID                                                            \n",
       "CA-2014-100090                0                0                0   \n",
       "CA-2014-100860                0                0                0   \n",
       "CA-2014-100867                0                0                0   \n",
       "CA-2014-101462                0                0                0   \n",
       "CA-2014-101931                0                0                0   \n",
       "\n",
       "Product_ID      FUR-AZ-10001473  FUR-AZ-10002213  FUR-AZ-10004017  \\\n",
       "Order_ID                                                            \n",
       "CA-2014-100090                0                0                0   \n",
       "CA-2014-100860                0                0                0   \n",
       "CA-2014-100867                0                0                0   \n",
       "CA-2014-101462                0                0                0   \n",
       "CA-2014-101931                0                0                0   \n",
       "\n",
       "Product_ID      FUR-AZ-10004864  ...  TEC-PH-10004586  TEC-PH-10004614  \\\n",
       "Order_ID                         ...                                     \n",
       "CA-2014-100090                0  ...                0                0   \n",
       "CA-2014-100860                0  ...                0                0   \n",
       "CA-2014-100867                0  ...                0                0   \n",
       "CA-2014-101462                0  ...                0                0   \n",
       "CA-2014-101931                0  ...                0                0   \n",
       "\n",
       "Product_ID      TEC-PH-10004667  TEC-PH-10004700  TEC-PH-10004774  \\\n",
       "Order_ID                                                            \n",
       "CA-2014-100090                0                0                0   \n",
       "CA-2014-100860                0                0                0   \n",
       "CA-2014-100867                0                0                0   \n",
       "CA-2014-101462                0                0                0   \n",
       "CA-2014-101931                0                0                0   \n",
       "\n",
       "Product_ID      TEC-PH-10004833  TEC-PH-10004896  TEC-PH-10004908  \\\n",
       "Order_ID                                                            \n",
       "CA-2014-100090                0                0                0   \n",
       "CA-2014-100860                0                0                0   \n",
       "CA-2014-100867                0                0                0   \n",
       "CA-2014-101462                0                0                0   \n",
       "CA-2014-101931                0                0                0   \n",
       "\n",
       "Product_ID      TEC-PH-10004922  TEC-PH-10004977  \n",
       "Order_ID                                          \n",
       "CA-2014-100090                0                0  \n",
       "CA-2014-100860                0                0  \n",
       "CA-2014-100867                1                0  \n",
       "CA-2014-101462                0                0  \n",
       "CA-2014-101931                0                0  \n",
       "\n",
       "[5 rows x 1195 columns]"
      ]
     },
     "execution_count": 24,
     "metadata": {},
     "output_type": "execute_result"
    }
   ],
   "source": [
    "basket.head()"
   ]
  },
  {
   "cell_type": "code",
   "execution_count": 25,
   "id": "810f4277-cac3-4d7a-a613-f3a6c7891d24",
   "metadata": {},
   "outputs": [
    {
     "data": {
      "text/html": [
       "<div>\n",
       "<style scoped>\n",
       "    .dataframe tbody tr th:only-of-type {\n",
       "        vertical-align: middle;\n",
       "    }\n",
       "\n",
       "    .dataframe tbody tr th {\n",
       "        vertical-align: top;\n",
       "    }\n",
       "\n",
       "    .dataframe thead th {\n",
       "        text-align: right;\n",
       "    }\n",
       "</style>\n",
       "<table border=\"1\" class=\"dataframe\">\n",
       "  <thead>\n",
       "    <tr style=\"text-align: right;\">\n",
       "      <th>Product_ID</th>\n",
       "      <th>FUR-AY-10001473</th>\n",
       "      <th>FUR-AY-10002213</th>\n",
       "      <th>FUR-AY-10004091</th>\n",
       "      <th>FUR-AY-10004270</th>\n",
       "      <th>FUR-AY-10004848</th>\n",
       "      <th>FUR-AZ-10001146</th>\n",
       "      <th>FUR-AZ-10001473</th>\n",
       "      <th>FUR-AZ-10002213</th>\n",
       "      <th>FUR-AZ-10004017</th>\n",
       "      <th>FUR-AZ-10004864</th>\n",
       "      <th>...</th>\n",
       "      <th>TEC-PH-10004586</th>\n",
       "      <th>TEC-PH-10004614</th>\n",
       "      <th>TEC-PH-10004667</th>\n",
       "      <th>TEC-PH-10004700</th>\n",
       "      <th>TEC-PH-10004774</th>\n",
       "      <th>TEC-PH-10004833</th>\n",
       "      <th>TEC-PH-10004896</th>\n",
       "      <th>TEC-PH-10004908</th>\n",
       "      <th>TEC-PH-10004922</th>\n",
       "      <th>TEC-PH-10004977</th>\n",
       "    </tr>\n",
       "    <tr>\n",
       "      <th>Order_ID</th>\n",
       "      <th></th>\n",
       "      <th></th>\n",
       "      <th></th>\n",
       "      <th></th>\n",
       "      <th></th>\n",
       "      <th></th>\n",
       "      <th></th>\n",
       "      <th></th>\n",
       "      <th></th>\n",
       "      <th></th>\n",
       "      <th></th>\n",
       "      <th></th>\n",
       "      <th></th>\n",
       "      <th></th>\n",
       "      <th></th>\n",
       "      <th></th>\n",
       "      <th></th>\n",
       "      <th></th>\n",
       "      <th></th>\n",
       "      <th></th>\n",
       "      <th></th>\n",
       "    </tr>\n",
       "  </thead>\n",
       "  <tbody>\n",
       "    <tr>\n",
       "      <th>US-2017-160143</th>\n",
       "      <td>0</td>\n",
       "      <td>0</td>\n",
       "      <td>0</td>\n",
       "      <td>0</td>\n",
       "      <td>0</td>\n",
       "      <td>0</td>\n",
       "      <td>0</td>\n",
       "      <td>0</td>\n",
       "      <td>0</td>\n",
       "      <td>0</td>\n",
       "      <td>...</td>\n",
       "      <td>0</td>\n",
       "      <td>0</td>\n",
       "      <td>0</td>\n",
       "      <td>0</td>\n",
       "      <td>0</td>\n",
       "      <td>0</td>\n",
       "      <td>0</td>\n",
       "      <td>0</td>\n",
       "      <td>0</td>\n",
       "      <td>0</td>\n",
       "    </tr>\n",
       "    <tr>\n",
       "      <th>US-2017-163300</th>\n",
       "      <td>0</td>\n",
       "      <td>0</td>\n",
       "      <td>0</td>\n",
       "      <td>0</td>\n",
       "      <td>0</td>\n",
       "      <td>0</td>\n",
       "      <td>0</td>\n",
       "      <td>0</td>\n",
       "      <td>0</td>\n",
       "      <td>0</td>\n",
       "      <td>...</td>\n",
       "      <td>0</td>\n",
       "      <td>0</td>\n",
       "      <td>0</td>\n",
       "      <td>0</td>\n",
       "      <td>0</td>\n",
       "      <td>0</td>\n",
       "      <td>0</td>\n",
       "      <td>0</td>\n",
       "      <td>0</td>\n",
       "      <td>0</td>\n",
       "    </tr>\n",
       "    <tr>\n",
       "      <th>US-2017-163657</th>\n",
       "      <td>0</td>\n",
       "      <td>0</td>\n",
       "      <td>0</td>\n",
       "      <td>0</td>\n",
       "      <td>0</td>\n",
       "      <td>0</td>\n",
       "      <td>0</td>\n",
       "      <td>0</td>\n",
       "      <td>0</td>\n",
       "      <td>0</td>\n",
       "      <td>...</td>\n",
       "      <td>0</td>\n",
       "      <td>0</td>\n",
       "      <td>0</td>\n",
       "      <td>0</td>\n",
       "      <td>0</td>\n",
       "      <td>0</td>\n",
       "      <td>0</td>\n",
       "      <td>0</td>\n",
       "      <td>0</td>\n",
       "      <td>0</td>\n",
       "    </tr>\n",
       "    <tr>\n",
       "      <th>US-2017-163790</th>\n",
       "      <td>0</td>\n",
       "      <td>0</td>\n",
       "      <td>0</td>\n",
       "      <td>0</td>\n",
       "      <td>0</td>\n",
       "      <td>0</td>\n",
       "      <td>0</td>\n",
       "      <td>0</td>\n",
       "      <td>0</td>\n",
       "      <td>0</td>\n",
       "      <td>...</td>\n",
       "      <td>0</td>\n",
       "      <td>0</td>\n",
       "      <td>0</td>\n",
       "      <td>0</td>\n",
       "      <td>0</td>\n",
       "      <td>0</td>\n",
       "      <td>0</td>\n",
       "      <td>0</td>\n",
       "      <td>0</td>\n",
       "      <td>0</td>\n",
       "    </tr>\n",
       "    <tr>\n",
       "      <th>US-2017-167318</th>\n",
       "      <td>0</td>\n",
       "      <td>0</td>\n",
       "      <td>0</td>\n",
       "      <td>0</td>\n",
       "      <td>0</td>\n",
       "      <td>0</td>\n",
       "      <td>0</td>\n",
       "      <td>0</td>\n",
       "      <td>0</td>\n",
       "      <td>0</td>\n",
       "      <td>...</td>\n",
       "      <td>0</td>\n",
       "      <td>0</td>\n",
       "      <td>0</td>\n",
       "      <td>0</td>\n",
       "      <td>0</td>\n",
       "      <td>0</td>\n",
       "      <td>0</td>\n",
       "      <td>0</td>\n",
       "      <td>0</td>\n",
       "      <td>0</td>\n",
       "    </tr>\n",
       "  </tbody>\n",
       "</table>\n",
       "<p>5 rows × 1195 columns</p>\n",
       "</div>"
      ],
      "text/plain": [
       "Product_ID      FUR-AY-10001473  FUR-AY-10002213  FUR-AY-10004091  \\\n",
       "Order_ID                                                            \n",
       "US-2017-160143                0                0                0   \n",
       "US-2017-163300                0                0                0   \n",
       "US-2017-163657                0                0                0   \n",
       "US-2017-163790                0                0                0   \n",
       "US-2017-167318                0                0                0   \n",
       "\n",
       "Product_ID      FUR-AY-10004270  FUR-AY-10004848  FUR-AZ-10001146  \\\n",
       "Order_ID                                                            \n",
       "US-2017-160143                0                0                0   \n",
       "US-2017-163300                0                0                0   \n",
       "US-2017-163657                0                0                0   \n",
       "US-2017-163790                0                0                0   \n",
       "US-2017-167318                0                0                0   \n",
       "\n",
       "Product_ID      FUR-AZ-10001473  FUR-AZ-10002213  FUR-AZ-10004017  \\\n",
       "Order_ID                                                            \n",
       "US-2017-160143                0                0                0   \n",
       "US-2017-163300                0                0                0   \n",
       "US-2017-163657                0                0                0   \n",
       "US-2017-163790                0                0                0   \n",
       "US-2017-167318                0                0                0   \n",
       "\n",
       "Product_ID      FUR-AZ-10004864  ...  TEC-PH-10004586  TEC-PH-10004614  \\\n",
       "Order_ID                         ...                                     \n",
       "US-2017-160143                0  ...                0                0   \n",
       "US-2017-163300                0  ...                0                0   \n",
       "US-2017-163657                0  ...                0                0   \n",
       "US-2017-163790                0  ...                0                0   \n",
       "US-2017-167318                0  ...                0                0   \n",
       "\n",
       "Product_ID      TEC-PH-10004667  TEC-PH-10004700  TEC-PH-10004774  \\\n",
       "Order_ID                                                            \n",
       "US-2017-160143                0                0                0   \n",
       "US-2017-163300                0                0                0   \n",
       "US-2017-163657                0                0                0   \n",
       "US-2017-163790                0                0                0   \n",
       "US-2017-167318                0                0                0   \n",
       "\n",
       "Product_ID      TEC-PH-10004833  TEC-PH-10004896  TEC-PH-10004908  \\\n",
       "Order_ID                                                            \n",
       "US-2017-160143                0                0                0   \n",
       "US-2017-163300                0                0                0   \n",
       "US-2017-163657                0                0                0   \n",
       "US-2017-163790                0                0                0   \n",
       "US-2017-167318                0                0                0   \n",
       "\n",
       "Product_ID      TEC-PH-10004922  TEC-PH-10004977  \n",
       "Order_ID                                          \n",
       "US-2017-160143                0                0  \n",
       "US-2017-163300                0                0  \n",
       "US-2017-163657                0                0  \n",
       "US-2017-163790                0                0  \n",
       "US-2017-167318                0                0  \n",
       "\n",
       "[5 rows x 1195 columns]"
      ]
     },
     "execution_count": 25,
     "metadata": {},
     "output_type": "execute_result"
    }
   ],
   "source": [
    "basket.tail()"
   ]
  },
  {
   "cell_type": "code",
   "execution_count": 26,
   "id": "384b4959-100e-4ecc-9f43-9c43b392ad68",
   "metadata": {},
   "outputs": [
    {
     "data": {
      "text/plain": [
       "array([[0, 0, 0, ..., 0, 0, 0],\n",
       "       [0, 0, 0, ..., 0, 0, 0],\n",
       "       [0, 0, 0, ..., 0, 1, 0],\n",
       "       ...,\n",
       "       [0, 0, 0, ..., 0, 0, 0],\n",
       "       [0, 0, 0, ..., 0, 0, 0],\n",
       "       [0, 0, 0, ..., 0, 0, 0]])"
      ]
     },
     "execution_count": 26,
     "metadata": {},
     "output_type": "execute_result"
    }
   ],
   "source": [
    "basket.values"
   ]
  },
  {
   "cell_type": "code",
   "execution_count": 27,
   "id": "a4fd787c-a896-4573-9be4-2c24b3b13938",
   "metadata": {},
   "outputs": [],
   "source": [
    "basket= basket.astype(bool)"
   ]
  },
  {
   "cell_type": "code",
   "execution_count": 28,
   "id": "8ff70a39-96ac-4bcd-adbd-8da8203bb0b5",
   "metadata": {},
   "outputs": [
    {
     "name": "stdout",
     "output_type": "stream",
     "text": [
      "Product_ID\n",
      "FUR-AY-10001473    bool\n",
      "FUR-AY-10002213    bool\n",
      "FUR-AY-10004091    bool\n",
      "FUR-AY-10004270    bool\n",
      "FUR-AY-10004848    bool\n",
      "                   ... \n",
      "TEC-PH-10004833    bool\n",
      "TEC-PH-10004896    bool\n",
      "TEC-PH-10004908    bool\n",
      "TEC-PH-10004922    bool\n",
      "TEC-PH-10004977    bool\n",
      "Length: 1195, dtype: object\n"
     ]
    }
   ],
   "source": [
    "print(basket.dtypes)"
   ]
  },
  {
   "cell_type": "code",
   "execution_count": 29,
   "id": "f0e76830-2ab0-481a-b39d-29846851e534",
   "metadata": {},
   "outputs": [],
   "source": [
    "from mlxtend.frequent_patterns import apriori\n",
    "from mlxtend.frequent_patterns import association_rules"
   ]
  },
  {
   "cell_type": "code",
   "execution_count": 30,
   "id": "fd8c323e-5383-4b01-b30a-ec5620ac7de3",
   "metadata": {},
   "outputs": [],
   "source": [
    "df2 = apriori(basket, min_support=0.005, use_colnames = True)"
   ]
  },
  {
   "cell_type": "code",
   "execution_count": 31,
   "id": "255a8cd3-4bae-4f5a-9418-96eb50cef45e",
   "metadata": {},
   "outputs": [
    {
     "data": {
      "text/html": [
       "<div>\n",
       "<style scoped>\n",
       "    .dataframe tbody tr th:only-of-type {\n",
       "        vertical-align: middle;\n",
       "    }\n",
       "\n",
       "    .dataframe tbody tr th {\n",
       "        vertical-align: top;\n",
       "    }\n",
       "\n",
       "    .dataframe thead th {\n",
       "        text-align: right;\n",
       "    }\n",
       "</style>\n",
       "<table border=\"1\" class=\"dataframe\">\n",
       "  <thead>\n",
       "    <tr style=\"text-align: right;\">\n",
       "      <th></th>\n",
       "      <th>support</th>\n",
       "      <th>itemsets</th>\n",
       "    </tr>\n",
       "  </thead>\n",
       "  <tbody>\n",
       "    <tr>\n",
       "      <th>0</th>\n",
       "      <td>0.005877</td>\n",
       "      <td>(FUR-BO-10001337)</td>\n",
       "    </tr>\n",
       "    <tr>\n",
       "      <th>1</th>\n",
       "      <td>0.005877</td>\n",
       "      <td>(FUR-CH-10002774)</td>\n",
       "    </tr>\n",
       "    <tr>\n",
       "      <th>2</th>\n",
       "      <td>0.005877</td>\n",
       "      <td>(OFF-AP-10004249)</td>\n",
       "    </tr>\n",
       "    <tr>\n",
       "      <th>3</th>\n",
       "      <td>0.005877</td>\n",
       "      <td>(OFF-EN-10004773)</td>\n",
       "    </tr>\n",
       "    <tr>\n",
       "      <th>4</th>\n",
       "      <td>0.006856</td>\n",
       "      <td>(OFF-FA-10003485)</td>\n",
       "    </tr>\n",
       "  </tbody>\n",
       "</table>\n",
       "</div>"
      ],
      "text/plain": [
       "    support           itemsets\n",
       "0  0.005877  (FUR-BO-10001337)\n",
       "1  0.005877  (FUR-CH-10002774)\n",
       "2  0.005877  (OFF-AP-10004249)\n",
       "3  0.005877  (OFF-EN-10004773)\n",
       "4  0.006856  (OFF-FA-10003485)"
      ]
     },
     "execution_count": 31,
     "metadata": {},
     "output_type": "execute_result"
    }
   ],
   "source": [
    "df2.head()"
   ]
  },
  {
   "cell_type": "code",
   "execution_count": 32,
   "id": "12417c1e-e7bf-4804-adc0-5cda6521c048",
   "metadata": {
    "scrolled": true
   },
   "outputs": [
    {
     "data": {
      "text/html": [
       "<div>\n",
       "<style scoped>\n",
       "    .dataframe tbody tr th:only-of-type {\n",
       "        vertical-align: middle;\n",
       "    }\n",
       "\n",
       "    .dataframe tbody tr th {\n",
       "        vertical-align: top;\n",
       "    }\n",
       "\n",
       "    .dataframe thead th {\n",
       "        text-align: right;\n",
       "    }\n",
       "</style>\n",
       "<table border=\"1\" class=\"dataframe\">\n",
       "  <thead>\n",
       "    <tr style=\"text-align: right;\">\n",
       "      <th></th>\n",
       "      <th>antecedents</th>\n",
       "      <th>consequents</th>\n",
       "      <th>antecedent support</th>\n",
       "      <th>consequent support</th>\n",
       "      <th>support</th>\n",
       "      <th>confidence</th>\n",
       "      <th>lift</th>\n",
       "      <th>leverage</th>\n",
       "      <th>conviction</th>\n",
       "      <th>zhangs_metric</th>\n",
       "    </tr>\n",
       "  </thead>\n",
       "  <tbody>\n",
       "  </tbody>\n",
       "</table>\n",
       "</div>"
      ],
      "text/plain": [
       "Empty DataFrame\n",
       "Columns: [antecedents, consequents, antecedent support, consequent support, support, confidence, lift, leverage, conviction, zhangs_metric]\n",
       "Index: []"
      ]
     },
     "execution_count": 32,
     "metadata": {},
     "output_type": "execute_result"
    }
   ],
   "source": [
    "association_rules(df2, metric = \"confidence\", min_threshold = 0.5)"
   ]
  },
  {
   "cell_type": "code",
   "execution_count": 33,
   "id": "ecf314cf-e7ef-43ab-93c5-9352e275030c",
   "metadata": {},
   "outputs": [
    {
     "data": {
      "text/plain": [
       "array([[0.005876591576885406, frozenset({'FUR-BO-10001337'})],\n",
       "       [0.005876591576885406, frozenset({'FUR-CH-10002774'})],\n",
       "       [0.005876591576885406, frozenset({'OFF-AP-10004249'})],\n",
       "       [0.005876591576885406, frozenset({'OFF-EN-10004773'})],\n",
       "       [0.0068560235063663075, frozenset({'OFF-FA-10003485'})],\n",
       "       [0.005876591576885406, frozenset({'OFF-PA-10002764'})]],\n",
       "      dtype=object)"
      ]
     },
     "execution_count": 33,
     "metadata": {},
     "output_type": "execute_result"
    }
   ],
   "source": [
    "df2.values"
   ]
  },
  {
   "cell_type": "code",
   "execution_count": 34,
   "id": "234e1b59-6d69-44d0-8335-b0a9ba023bae",
   "metadata": {},
   "outputs": [
    {
     "data": {
      "text/html": [
       "<div>\n",
       "<style scoped>\n",
       "    .dataframe tbody tr th:only-of-type {\n",
       "        vertical-align: middle;\n",
       "    }\n",
       "\n",
       "    .dataframe tbody tr th {\n",
       "        vertical-align: top;\n",
       "    }\n",
       "\n",
       "    .dataframe thead th {\n",
       "        text-align: right;\n",
       "    }\n",
       "</style>\n",
       "<table border=\"1\" class=\"dataframe\">\n",
       "  <thead>\n",
       "    <tr style=\"text-align: right;\">\n",
       "      <th></th>\n",
       "      <th>support</th>\n",
       "      <th>itemsets</th>\n",
       "    </tr>\n",
       "  </thead>\n",
       "  <tbody>\n",
       "    <tr>\n",
       "      <th>0</th>\n",
       "      <td>0.005877</td>\n",
       "      <td>(FUR-BO-10001337)</td>\n",
       "    </tr>\n",
       "    <tr>\n",
       "      <th>1</th>\n",
       "      <td>0.005877</td>\n",
       "      <td>(FUR-CH-10002774)</td>\n",
       "    </tr>\n",
       "    <tr>\n",
       "      <th>2</th>\n",
       "      <td>0.005877</td>\n",
       "      <td>(OFF-AP-10004249)</td>\n",
       "    </tr>\n",
       "    <tr>\n",
       "      <th>3</th>\n",
       "      <td>0.005877</td>\n",
       "      <td>(OFF-EN-10004773)</td>\n",
       "    </tr>\n",
       "    <tr>\n",
       "      <th>4</th>\n",
       "      <td>0.006856</td>\n",
       "      <td>(OFF-FA-10003485)</td>\n",
       "    </tr>\n",
       "    <tr>\n",
       "      <th>5</th>\n",
       "      <td>0.005877</td>\n",
       "      <td>(OFF-PA-10002764)</td>\n",
       "    </tr>\n",
       "  </tbody>\n",
       "</table>\n",
       "</div>"
      ],
      "text/plain": [
       "    support           itemsets\n",
       "0  0.005877  (FUR-BO-10001337)\n",
       "1  0.005877  (FUR-CH-10002774)\n",
       "2  0.005877  (OFF-AP-10004249)\n",
       "3  0.005877  (OFF-EN-10004773)\n",
       "4  0.006856  (OFF-FA-10003485)\n",
       "5  0.005877  (OFF-PA-10002764)"
      ]
     },
     "execution_count": 34,
     "metadata": {},
     "output_type": "execute_result"
    }
   ],
   "source": [
    "df2.tail(30)"
   ]
  },
  {
   "cell_type": "code",
   "execution_count": 35,
   "id": "89d91755-7b92-4b28-be1f-62d52f1046f6",
   "metadata": {},
   "outputs": [
    {
     "data": {
      "text/plain": [
       "itemsets\n",
       "(FUR-BO-10001337)    1\n",
       "(FUR-CH-10002774)    1\n",
       "(OFF-AP-10004249)    1\n",
       "(OFF-EN-10004773)    1\n",
       "(OFF-FA-10003485)    1\n",
       "(OFF-PA-10002764)    1\n",
       "Name: count, dtype: int64"
      ]
     },
     "execution_count": 35,
     "metadata": {},
     "output_type": "execute_result"
    }
   ],
   "source": [
    "df2[\"itemsets\"].value_counts()"
   ]
  },
  {
   "cell_type": "code",
   "execution_count": 36,
   "id": "865c98b0-b6e6-408c-aa1c-6b6b2443b1e1",
   "metadata": {},
   "outputs": [
    {
     "data": {
      "text/html": [
       "<div>\n",
       "<style scoped>\n",
       "    .dataframe tbody tr th:only-of-type {\n",
       "        vertical-align: middle;\n",
       "    }\n",
       "\n",
       "    .dataframe tbody tr th {\n",
       "        vertical-align: top;\n",
       "    }\n",
       "\n",
       "    .dataframe thead th {\n",
       "        text-align: right;\n",
       "    }\n",
       "</style>\n",
       "<table border=\"1\" class=\"dataframe\">\n",
       "  <thead>\n",
       "    <tr style=\"text-align: right;\">\n",
       "      <th></th>\n",
       "      <th>support</th>\n",
       "      <th>itemsets</th>\n",
       "    </tr>\n",
       "  </thead>\n",
       "  <tbody>\n",
       "  </tbody>\n",
       "</table>\n",
       "</div>"
      ],
      "text/plain": [
       "Empty DataFrame\n",
       "Columns: [support, itemsets]\n",
       "Index: []"
      ]
     },
     "execution_count": 36,
     "metadata": {},
     "output_type": "execute_result"
    }
   ],
   "source": [
    "df2[df2[\"support\"]> 0.03]"
   ]
  },
  {
   "cell_type": "code",
   "execution_count": 37,
   "id": "73b289e0-7bc6-4e9c-b209-e3f16dad46fb",
   "metadata": {},
   "outputs": [],
   "source": [
    "df2[\"itemsets\"] = df2[\"itemsets\"].astype(str)"
   ]
  },
  {
   "cell_type": "code",
   "execution_count": 38,
   "id": "a877145d-2085-4407-a9c4-0d7b2558c1fd",
   "metadata": {},
   "outputs": [],
   "source": [
    "df3 = df2[\"itemsets\"].str.strip('()').str.split(', ', expand=True)"
   ]
  },
  {
   "cell_type": "code",
   "execution_count": 39,
   "id": "de8a9c30-0d34-47e5-b768-2da935b63670",
   "metadata": {},
   "outputs": [
    {
     "data": {
      "text/plain": [
       "RangeIndex(start=0, stop=1, step=1)"
      ]
     },
     "execution_count": 39,
     "metadata": {},
     "output_type": "execute_result"
    }
   ],
   "source": [
    "df3.columns"
   ]
  },
  {
   "cell_type": "code",
   "execution_count": 40,
   "id": "45566f38-b9df-4300-96a6-08b71545d210",
   "metadata": {},
   "outputs": [],
   "source": [
    "df2.to_csv(\"df2son.csv\")"
   ]
  },
  {
   "cell_type": "code",
   "execution_count": 41,
   "id": "c04a4425-7e25-4738-8dc1-d71201a53018",
   "metadata": {},
   "outputs": [],
   "source": [
    "df4 = pd.read_excel(\"Book2.xlsx\", sheet_name=\"Sheet4\")"
   ]
  },
  {
   "cell_type": "code",
   "execution_count": 42,
   "id": "ab7d9979-7400-4b0a-a3d6-44ede7515443",
   "metadata": {},
   "outputs": [],
   "source": [
    "#df4.to_csv(\"retail.csv\")"
   ]
  },
  {
   "cell_type": "code",
   "execution_count": 43,
   "id": "224bdb25-8cdd-4ebd-a218-edd51f08ffa7",
   "metadata": {},
   "outputs": [
    {
     "data": {
      "text/plain": [
       "<Axes: xlabel='Price'>"
      ]
     },
     "execution_count": 43,
     "metadata": {},
     "output_type": "execute_result"
    },
    {
     "data": {
      "image/png": "[encoded data removed]",
      "text/plain": [
       "<Figure size 640x480 with 1 Axes>"
      ]
     },
     "metadata": {},
     "output_type": "display_data"
    }
   ],
   "source": [
    "sns.boxplot(x=\"Price\",data=df)"
   ]
  },
  {
   "cell_type": "code",
   "execution_count": null,
   "id": "60fed553-ece8-4bcf-a167-7632b8eadaaf",
   "metadata": {},
   "outputs": [],
   "source": []
  }
 ],
 "metadata": {
  "kernelspec": {
   "display_name": "Python 3 (ipykernel)",
   "language": "python",
   "name": "python3"
  },
  "language_info": {
   "codemirror_mode": {
    "name": "ipython",
    "version": 3
   },
   "file_extension": ".py",
   "mimetype": "text/x-python",
   "name": "python",
   "nbconvert_exporter": "python",
   "pygments_lexer": "ipython3",
   "version": "3.12.2"
  }
 },
 "nbformat": 4,
 "nbformat_minor": 5
}
